{
  "cells": [
    {
      "attachments": {},
      "cell_type": "markdown",
      "id": "innocent-university",
      "metadata": {},
      "source": [
        "# Limpieza de bienes raíces\n",
        "\n",
        "Este es un conjunto de datos (dataset) reales que fue descargado usando técnicas de web scraping. La data contiene registros de **Fotocasa**, el cual es uno de los sitios más populares de bienes raíces en España. Por favor no hagas esto (web scraping) a no ser que sea para propósitos académicos.\n",
        "\n",
        "El dataset fue descargado hace algunos años por Henry Navarro y en ningún caso se obtuvo beneficio económico de ello.\n",
        "\n",
        "Contiene miles de datos de casas reales publicadas en la web www.fotocasa.com. Tu objetivo es extraer tanta información como sea posible con el conocimiento que tienes hasta ahora de ciencia de datos, por ejemplo ¿cuál es la casa más cara en todo el dataset?\n",
        "\n",
        "Empecemos precisamente con esa pregunta... ¡Buena suerte!"
      ]
    },
    {
      "attachments": {},
      "cell_type": "markdown",
      "id": "multiple-glass",
      "metadata": {},
      "source": [
        "#### Ejercicio 00. Lee el dataset assets/real_estate.csv e intenta visualizar la tabla (★☆☆)"
      ]
    },
    {
      "cell_type": "code",
      "execution_count": 1,
      "id": "frank-heath",
      "metadata": {},
      "outputs": [
        {
          "data": {
            "text/html": [
              "<div>\n",
              "<style scoped>\n",
              "    .dataframe tbody tr th:only-of-type {\n",
              "        vertical-align: middle;\n",
              "    }\n",
              "\n",
              "    .dataframe tbody tr th {\n",
              "        vertical-align: top;\n",
              "    }\n",
              "\n",
              "    .dataframe thead th {\n",
              "        text-align: right;\n",
              "    }\n",
              "</style>\n",
              "<table border=\"1\" class=\"dataframe\">\n",
              "  <thead>\n",
              "    <tr style=\"text-align: right;\">\n",
              "      <th></th>\n",
              "      <th>Unnamed: 0</th>\n",
              "      <th>id_realEstates</th>\n",
              "      <th>isNew</th>\n",
              "      <th>realEstate_name</th>\n",
              "      <th>phone_realEstate</th>\n",
              "      <th>url_inmueble</th>\n",
              "      <th>rooms</th>\n",
              "      <th>bathrooms</th>\n",
              "      <th>surface</th>\n",
              "      <th>price</th>\n",
              "      <th>...</th>\n",
              "      <th>level4Id</th>\n",
              "      <th>level5Id</th>\n",
              "      <th>level6Id</th>\n",
              "      <th>level7Id</th>\n",
              "      <th>level8Id</th>\n",
              "      <th>accuracy</th>\n",
              "      <th>latitude</th>\n",
              "      <th>longitude</th>\n",
              "      <th>zipCode</th>\n",
              "      <th>customZone</th>\n",
              "    </tr>\n",
              "  </thead>\n",
              "  <tbody>\n",
              "    <tr>\n",
              "      <th>0</th>\n",
              "      <td>1</td>\n",
              "      <td>153771986</td>\n",
              "      <td>False</td>\n",
              "      <td>ferrari 57 inmobiliaria</td>\n",
              "      <td>912177526.0</td>\n",
              "      <td>https://www.fotocasa.es/es/comprar/vivienda/ma...</td>\n",
              "      <td>3.0</td>\n",
              "      <td>2.0</td>\n",
              "      <td>103.0</td>\n",
              "      <td>195000</td>\n",
              "      <td>...</td>\n",
              "      <td>0</td>\n",
              "      <td>0</td>\n",
              "      <td>0</td>\n",
              "      <td>0</td>\n",
              "      <td>0</td>\n",
              "      <td>0</td>\n",
              "      <td>40,2948276786438</td>\n",
              "      <td>-3,44402412135624</td>\n",
              "      <td>NaN</td>\n",
              "      <td>NaN</td>\n",
              "    </tr>\n",
              "    <tr>\n",
              "      <th>1</th>\n",
              "      <td>2</td>\n",
              "      <td>153867863</td>\n",
              "      <td>False</td>\n",
              "      <td>tecnocasa fuenlabrada ferrocarril</td>\n",
              "      <td>916358736.0</td>\n",
              "      <td>https://www.fotocasa.es/es/comprar/vivienda/ma...</td>\n",
              "      <td>3.0</td>\n",
              "      <td>1.0</td>\n",
              "      <td>NaN</td>\n",
              "      <td>89000</td>\n",
              "      <td>...</td>\n",
              "      <td>0</td>\n",
              "      <td>0</td>\n",
              "      <td>0</td>\n",
              "      <td>0</td>\n",
              "      <td>0</td>\n",
              "      <td>1</td>\n",
              "      <td>40,28674</td>\n",
              "      <td>-3,79351</td>\n",
              "      <td>NaN</td>\n",
              "      <td>NaN</td>\n",
              "    </tr>\n",
              "    <tr>\n",
              "      <th>2</th>\n",
              "      <td>3</td>\n",
              "      <td>153430440</td>\n",
              "      <td>False</td>\n",
              "      <td>look find boadilla</td>\n",
              "      <td>916350408.0</td>\n",
              "      <td>https://www.fotocasa.es/es/comprar/vivienda/ma...</td>\n",
              "      <td>2.0</td>\n",
              "      <td>2.0</td>\n",
              "      <td>99.0</td>\n",
              "      <td>390000</td>\n",
              "      <td>...</td>\n",
              "      <td>0</td>\n",
              "      <td>0</td>\n",
              "      <td>0</td>\n",
              "      <td>0</td>\n",
              "      <td>0</td>\n",
              "      <td>0</td>\n",
              "      <td>40,4115646786438</td>\n",
              "      <td>-3,90662252135624</td>\n",
              "      <td>NaN</td>\n",
              "      <td>NaN</td>\n",
              "    </tr>\n",
              "    <tr>\n",
              "      <th>3</th>\n",
              "      <td>4</td>\n",
              "      <td>152776331</td>\n",
              "      <td>False</td>\n",
              "      <td>tecnocasa fuenlabrada ferrocarril</td>\n",
              "      <td>916358736.0</td>\n",
              "      <td>https://www.fotocasa.es/es/comprar/vivienda/ma...</td>\n",
              "      <td>3.0</td>\n",
              "      <td>1.0</td>\n",
              "      <td>86.0</td>\n",
              "      <td>89000</td>\n",
              "      <td>...</td>\n",
              "      <td>0</td>\n",
              "      <td>0</td>\n",
              "      <td>0</td>\n",
              "      <td>0</td>\n",
              "      <td>0</td>\n",
              "      <td>0</td>\n",
              "      <td>40,2853785786438</td>\n",
              "      <td>-3,79508142135624</td>\n",
              "      <td>NaN</td>\n",
              "      <td>NaN</td>\n",
              "    </tr>\n",
              "    <tr>\n",
              "      <th>4</th>\n",
              "      <td>5</td>\n",
              "      <td>153180188</td>\n",
              "      <td>False</td>\n",
              "      <td>ferrari 57 inmobiliaria</td>\n",
              "      <td>912177526.0</td>\n",
              "      <td>https://www.fotocasa.es/es/comprar/vivienda/ma...</td>\n",
              "      <td>2.0</td>\n",
              "      <td>2.0</td>\n",
              "      <td>106.0</td>\n",
              "      <td>172000</td>\n",
              "      <td>...</td>\n",
              "      <td>0</td>\n",
              "      <td>0</td>\n",
              "      <td>0</td>\n",
              "      <td>0</td>\n",
              "      <td>0</td>\n",
              "      <td>0</td>\n",
              "      <td>40,2998774864376</td>\n",
              "      <td>-3,45226301356237</td>\n",
              "      <td>NaN</td>\n",
              "      <td>NaN</td>\n",
              "    </tr>\n",
              "    <tr>\n",
              "      <th>...</th>\n",
              "      <td>...</td>\n",
              "      <td>...</td>\n",
              "      <td>...</td>\n",
              "      <td>...</td>\n",
              "      <td>...</td>\n",
              "      <td>...</td>\n",
              "      <td>...</td>\n",
              "      <td>...</td>\n",
              "      <td>...</td>\n",
              "      <td>...</td>\n",
              "      <td>...</td>\n",
              "      <td>...</td>\n",
              "      <td>...</td>\n",
              "      <td>...</td>\n",
              "      <td>...</td>\n",
              "      <td>...</td>\n",
              "      <td>...</td>\n",
              "      <td>...</td>\n",
              "      <td>...</td>\n",
              "      <td>...</td>\n",
              "      <td>...</td>\n",
              "    </tr>\n",
              "    <tr>\n",
              "      <th>15330</th>\n",
              "      <td>15331</td>\n",
              "      <td>153901377</td>\n",
              "      <td>False</td>\n",
              "      <td>infocasa consulting</td>\n",
              "      <td>911360461.0</td>\n",
              "      <td>https://www.fotocasa.es/es/comprar/vivienda/ma...</td>\n",
              "      <td>2.0</td>\n",
              "      <td>1.0</td>\n",
              "      <td>96.0</td>\n",
              "      <td>259470</td>\n",
              "      <td>...</td>\n",
              "      <td>0</td>\n",
              "      <td>0</td>\n",
              "      <td>0</td>\n",
              "      <td>0</td>\n",
              "      <td>0</td>\n",
              "      <td>0</td>\n",
              "      <td>40,45416</td>\n",
              "      <td>-3,70286</td>\n",
              "      <td>NaN</td>\n",
              "      <td>NaN</td>\n",
              "    </tr>\n",
              "    <tr>\n",
              "      <th>15331</th>\n",
              "      <td>15332</td>\n",
              "      <td>150394373</td>\n",
              "      <td>False</td>\n",
              "      <td>inmobiliaria pulpon</td>\n",
              "      <td>912788039.0</td>\n",
              "      <td>https://www.fotocasa.es/es/comprar/vivienda/ma...</td>\n",
              "      <td>3.0</td>\n",
              "      <td>1.0</td>\n",
              "      <td>150.0</td>\n",
              "      <td>165000</td>\n",
              "      <td>...</td>\n",
              "      <td>0</td>\n",
              "      <td>0</td>\n",
              "      <td>0</td>\n",
              "      <td>0</td>\n",
              "      <td>0</td>\n",
              "      <td>0</td>\n",
              "      <td>40,36652</td>\n",
              "      <td>-3,48951</td>\n",
              "      <td>NaN</td>\n",
              "      <td>NaN</td>\n",
              "    </tr>\n",
              "    <tr>\n",
              "      <th>15332</th>\n",
              "      <td>15333</td>\n",
              "      <td>153901397</td>\n",
              "      <td>False</td>\n",
              "      <td>tecnocasa torrelodones</td>\n",
              "      <td>912780348.0</td>\n",
              "      <td>https://www.fotocasa.es/es/comprar/vivienda/ma...</td>\n",
              "      <td>4.0</td>\n",
              "      <td>2.0</td>\n",
              "      <td>175.0</td>\n",
              "      <td>495000</td>\n",
              "      <td>...</td>\n",
              "      <td>0</td>\n",
              "      <td>0</td>\n",
              "      <td>0</td>\n",
              "      <td>0</td>\n",
              "      <td>0</td>\n",
              "      <td>0</td>\n",
              "      <td>40,57444</td>\n",
              "      <td>-3,92124</td>\n",
              "      <td>NaN</td>\n",
              "      <td>NaN</td>\n",
              "    </tr>\n",
              "    <tr>\n",
              "      <th>15333</th>\n",
              "      <td>15334</td>\n",
              "      <td>152607440</td>\n",
              "      <td>False</td>\n",
              "      <td>inmobiliaria pulpon</td>\n",
              "      <td>912788039.0</td>\n",
              "      <td>https://www.fotocasa.es/es/comprar/vivienda/ma...</td>\n",
              "      <td>3.0</td>\n",
              "      <td>2.0</td>\n",
              "      <td>101.0</td>\n",
              "      <td>195000</td>\n",
              "      <td>...</td>\n",
              "      <td>0</td>\n",
              "      <td>0</td>\n",
              "      <td>0</td>\n",
              "      <td>0</td>\n",
              "      <td>0</td>\n",
              "      <td>0</td>\n",
              "      <td>40,36967</td>\n",
              "      <td>-3,48105</td>\n",
              "      <td>NaN</td>\n",
              "      <td>NaN</td>\n",
              "    </tr>\n",
              "    <tr>\n",
              "      <th>15334</th>\n",
              "      <td>15335</td>\n",
              "      <td>153901356</td>\n",
              "      <td>False</td>\n",
              "      <td>infocasa consulting</td>\n",
              "      <td>911360461.0</td>\n",
              "      <td>https://www.fotocasa.es/es/comprar/vivienda/ma...</td>\n",
              "      <td>3.0</td>\n",
              "      <td>2.0</td>\n",
              "      <td>152.0</td>\n",
              "      <td>765000</td>\n",
              "      <td>...</td>\n",
              "      <td>0</td>\n",
              "      <td>0</td>\n",
              "      <td>0</td>\n",
              "      <td>0</td>\n",
              "      <td>0</td>\n",
              "      <td>0</td>\n",
              "      <td>40,45773</td>\n",
              "      <td>-3,69068</td>\n",
              "      <td>NaN</td>\n",
              "      <td>NaN</td>\n",
              "    </tr>\n",
              "  </tbody>\n",
              "</table>\n",
              "<p>15335 rows × 37 columns</p>\n",
              "</div>"
            ],
            "text/plain": [
              "       Unnamed: 0  id_realEstates  isNew                    realEstate_name  \\\n",
              "0               1       153771986  False            ferrari 57 inmobiliaria   \n",
              "1               2       153867863  False  tecnocasa fuenlabrada ferrocarril   \n",
              "2               3       153430440  False                 look find boadilla   \n",
              "3               4       152776331  False  tecnocasa fuenlabrada ferrocarril   \n",
              "4               5       153180188  False            ferrari 57 inmobiliaria   \n",
              "...           ...             ...    ...                                ...   \n",
              "15330       15331       153901377  False                infocasa consulting   \n",
              "15331       15332       150394373  False                inmobiliaria pulpon   \n",
              "15332       15333       153901397  False             tecnocasa torrelodones   \n",
              "15333       15334       152607440  False                inmobiliaria pulpon   \n",
              "15334       15335       153901356  False                infocasa consulting   \n",
              "\n",
              "       phone_realEstate                                       url_inmueble  \\\n",
              "0           912177526.0  https://www.fotocasa.es/es/comprar/vivienda/ma...   \n",
              "1           916358736.0  https://www.fotocasa.es/es/comprar/vivienda/ma...   \n",
              "2           916350408.0  https://www.fotocasa.es/es/comprar/vivienda/ma...   \n",
              "3           916358736.0  https://www.fotocasa.es/es/comprar/vivienda/ma...   \n",
              "4           912177526.0  https://www.fotocasa.es/es/comprar/vivienda/ma...   \n",
              "...                 ...                                                ...   \n",
              "15330       911360461.0  https://www.fotocasa.es/es/comprar/vivienda/ma...   \n",
              "15331       912788039.0  https://www.fotocasa.es/es/comprar/vivienda/ma...   \n",
              "15332       912780348.0  https://www.fotocasa.es/es/comprar/vivienda/ma...   \n",
              "15333       912788039.0  https://www.fotocasa.es/es/comprar/vivienda/ma...   \n",
              "15334       911360461.0  https://www.fotocasa.es/es/comprar/vivienda/ma...   \n",
              "\n",
              "       rooms  bathrooms  surface   price  ... level4Id level5Id level6Id  \\\n",
              "0        3.0        2.0    103.0  195000  ...        0        0        0   \n",
              "1        3.0        1.0      NaN   89000  ...        0        0        0   \n",
              "2        2.0        2.0     99.0  390000  ...        0        0        0   \n",
              "3        3.0        1.0     86.0   89000  ...        0        0        0   \n",
              "4        2.0        2.0    106.0  172000  ...        0        0        0   \n",
              "...      ...        ...      ...     ...  ...      ...      ...      ...   \n",
              "15330    2.0        1.0     96.0  259470  ...        0        0        0   \n",
              "15331    3.0        1.0    150.0  165000  ...        0        0        0   \n",
              "15332    4.0        2.0    175.0  495000  ...        0        0        0   \n",
              "15333    3.0        2.0    101.0  195000  ...        0        0        0   \n",
              "15334    3.0        2.0    152.0  765000  ...        0        0        0   \n",
              "\n",
              "      level7Id level8Id accuracy          latitude          longitude zipCode  \\\n",
              "0            0        0        0  40,2948276786438  -3,44402412135624     NaN   \n",
              "1            0        0        1          40,28674           -3,79351     NaN   \n",
              "2            0        0        0  40,4115646786438  -3,90662252135624     NaN   \n",
              "3            0        0        0  40,2853785786438  -3,79508142135624     NaN   \n",
              "4            0        0        0  40,2998774864376  -3,45226301356237     NaN   \n",
              "...        ...      ...      ...               ...                ...     ...   \n",
              "15330        0        0        0          40,45416           -3,70286     NaN   \n",
              "15331        0        0        0          40,36652           -3,48951     NaN   \n",
              "15332        0        0        0          40,57444           -3,92124     NaN   \n",
              "15333        0        0        0          40,36967           -3,48105     NaN   \n",
              "15334        0        0        0          40,45773           -3,69068     NaN   \n",
              "\n",
              "      customZone  \n",
              "0            NaN  \n",
              "1            NaN  \n",
              "2            NaN  \n",
              "3            NaN  \n",
              "4            NaN  \n",
              "...          ...  \n",
              "15330        NaN  \n",
              "15331        NaN  \n",
              "15332        NaN  \n",
              "15333        NaN  \n",
              "15334        NaN  \n",
              "\n",
              "[15335 rows x 37 columns]"
            ]
          },
          "execution_count": 1,
          "metadata": {},
          "output_type": "execute_result"
        }
      ],
      "source": [
        "import pandas as pd\n",
        "\n",
        "# Este archivo CSV contiene puntos y comas en lugar de comas como separadores\n",
        "ds = pd.read_csv('assets/real_estate.csv', sep=';')\n",
        "ds"
      ]
    },
    {
      "attachments": {},
      "cell_type": "markdown",
      "id": "latin-guest",
      "metadata": {},
      "source": [
        "#### Ejercicio 01. ¿Cuál es la casa más cara en todo el dataset? (★☆☆)\n",
        "\n",
        "Imprime la dirección y el precio de la casa seleccionada. Por ejemplo:\n",
        "\n",
        "`La casa con dirección en Calle del Prado, Nº20 es la más cara y su precio es de 5000000 USD`"
      ]
    },
    {
      "cell_type": "code",
      "execution_count": 2,
      "id": "c2a276be",
      "metadata": {},
      "outputs": [
        {
          "data": {
            "text/plain": [
              "Index(['Unnamed: 0', 'id_realEstates', 'isNew', 'realEstate_name',\n",
              "       'phone_realEstate', 'url_inmueble', 'rooms', 'bathrooms', 'surface',\n",
              "       'price', 'date', 'description', 'address', 'country', 'level1',\n",
              "       'level2', 'level3', 'level4', 'level5', 'level6', 'level7', 'level8',\n",
              "       'upperLevel', 'countryId', 'level1Id', 'level2Id', 'level3Id',\n",
              "       'level4Id', 'level5Id', 'level6Id', 'level7Id', 'level8Id', 'accuracy',\n",
              "       'latitude', 'longitude', 'zipCode', 'customZone'],\n",
              "      dtype='object')"
            ]
          },
          "execution_count": 2,
          "metadata": {},
          "output_type": "execute_result"
        }
      ],
      "source": [
        "ds.columns"
      ]
    },
    {
      "cell_type": "code",
      "execution_count": 3,
      "id": "developing-optimum",
      "metadata": {},
      "outputs": [
        {
          "data": {
            "text/plain": [
              "13110    El Escorial\n",
              "Name: address, dtype: object"
            ]
          },
          "execution_count": 3,
          "metadata": {},
          "output_type": "execute_result"
        }
      ],
      "source": [
        "max_price = ds['price'].max()\n",
        "ds[ds['price']==max_price]['address']\n"
      ]
    },
    {
      "cell_type": "code",
      "execution_count": 4,
      "id": "3c3513fc",
      "metadata": {},
      "outputs": [
        {
          "data": {
            "text/plain": [
              "np.int64(8500000)"
            ]
          },
          "execution_count": 4,
          "metadata": {},
          "output_type": "execute_result"
        }
      ],
      "source": [
        "max_price "
      ]
    },
    {
      "attachments": {},
      "cell_type": "markdown",
      "id": "lesser-cosmetic",
      "metadata": {},
      "source": [
        "#### Ejercicio 02. ¿Cuál es la casa más barata del dataset? (★☆☆)\n",
        "\n",
        "Imprime la dirección y el precio de la casa seleccionada. Por ejemplo:\n",
        "\n",
        "`La casa con dirección en Calle Alcalá, Nº58 es la más barata y su precio es de 12000 USD`"
      ]
    },
    {
      "cell_type": "code",
      "execution_count": 5,
      "id": "1a179c60",
      "metadata": {},
      "outputs": [
        {
          "name": "stdout",
          "output_type": "stream",
          "text": [
            "la casa con la direccion en ['Berlin, Coslada'],es la mas barata y su precio es 600\n"
          ]
        }
      ],
      "source": [
        "minprice=ds[ds.price >0][\"price\"].min()\n",
        "address=ds[ds['price']==minprice]['address'].values \n",
        "print(f\"la casa con la direccion en {address},es la mas barata y su precio es {minprice}\") \n",
        "    \n",
        " "
      ]
    },
    {
      "cell_type": "code",
      "execution_count": 6,
      "id": "lovely-oasis",
      "metadata": {},
      "outputs": [
        {
          "data": {
            "text/plain": [
              "np.int64(0)"
            ]
          },
          "execution_count": 6,
          "metadata": {},
          "output_type": "execute_result"
        }
      ],
      "source": [
        "ds.price.min()\n"
      ]
    },
    {
      "attachments": {},
      "cell_type": "markdown",
      "id": "compliant-fellowship",
      "metadata": {},
      "source": [
        "#### Ejercicio 03. ¿Cuál es la casa más grande y la más pequeña del dataset? (★☆☆)\n",
        "\n",
        "Imprime la dirección y el área de las casas seleccionadas. Por ejemplo:\n",
        "\n",
        "`La casa más grande está ubicada en Calle Gran Vía, Nº38 y su superficie es de 5000 metros`\n",
        "\n",
        "`La casa más pequeña está ubicada en Calle Mayor, Nº12 y su superficie es de 200 metros`"
      ]
    },
    {
      "cell_type": "code",
      "execution_count": 7,
      "id": "d3e78bf2",
      "metadata": {},
      "outputs": [
        {
          "name": "stdout",
          "output_type": "stream",
          "text": [
            "la direccion de la casa mas pequeña es ['Calle Amparo,  Madrid Capital'],su superficie es 15.0\n",
            "la direccion de la casa mas grande es  ['Sevilla la Nueva'],la superficie es 249000.0\n"
          ]
        }
      ],
      "source": [
        "surficemin=ds[ds.surface>0][\"surface\"].min()\n",
        "addressmin=ds[ds['surface']==surficemin]['address'].values \n",
        "surficemax=ds[ds.surface>0][\"surface\"].max()\n",
        "addressmax=ds[ds['surface']==surficemax]['address'].values \n",
        "print(f\"la direccion de la casa mas pequeña es {addressmin},su superficie es {surficemin}\") \n",
        "print(f\"la direccion de la casa mas grande es  {addressmax},la superficie es {surficemax}\") "
      ]
    },
    {
      "cell_type": "markdown",
      "id": "every-tiffany",
      "metadata": {},
      "source": [
        " "
      ]
    },
    {
      "attachments": {},
      "cell_type": "markdown",
      "id": "danish-spirit",
      "metadata": {},
      "source": [
        "#### Ejercicio 04. ¿Cuantas poblaciones (columna level5) contiene el dataset? (★☆☆)\n",
        "\n",
        "Imprime el nombre de las poblaciones separadas por coma. Por ejemplo:\n",
        "\n",
        "`> print(populations)`\n",
        "\n",
        "`population1, population2, population3, ...`"
      ]
    },
    {
      "cell_type": "code",
      "execution_count": 8,
      "id": "bedb0fbd",
      "metadata": {},
      "outputs": [
        {
          "data": {
            "text/plain": [
              "168"
            ]
          },
          "execution_count": 8,
          "metadata": {},
          "output_type": "execute_result"
        }
      ],
      "source": [
        "ds.level5.nunique()"
      ]
    },
    {
      "cell_type": "code",
      "execution_count": 9,
      "id": "exciting-accreditation",
      "metadata": {},
      "outputs": [
        {
          "data": {
            "text/plain": [
              "array(['Arganda del Rey', 'Fuenlabrada', 'Boadilla del Monte',\n",
              "       'Las Rozas de Madrid', ' Madrid Capital', 'Villaviciosa de Odón',\n",
              "       'Pinto', 'Valdemoro', 'Navalcarnero', 'Pozuelo de Alarcón',\n",
              "       'Torrejón de Ardoz', 'Navalagamella', 'San Sebastián de los Reyes',\n",
              "       'Rivas-vaciamadrid', 'Alpedrete', 'Móstoles',\n",
              "       'San Fernando de Henares', 'Coslada', 'Becerril de la Sierra',\n",
              "       'Alcalá de Henares', 'Chinchón', 'Parla', 'Alcorcón',\n",
              "       'El Escorial', 'Leganés', 'Pedrezuela', 'Majadahonda',\n",
              "       'Villanueva de la Cañada', 'Villanueva del Pardillo',\n",
              "       'Torrelodones', 'Moralzarzal', 'Mejorada del Campo', 'Aranjuez',\n",
              "       'Corpa', 'Getafe', 'Velilla de San Antonio', 'Sevilla la Nueva',\n",
              "       'San Martín de la Vega', 'Villalbilla', 'Collado Villalba',\n",
              "       'Alcobendas', 'El Molar (Madrid)', 'Moraleja de Enmedio', 'Algete',\n",
              "       'Campo Real', 'Torrejón de la Calzada', 'Colmenar Viejo',\n",
              "       'Valdemorillo', 'Fuente El Saz de Jarama', 'Tres Cantos',\n",
              "       'Arroyomolinos (Madrid)', 'Griñón', 'Paracuellos de Jarama',\n",
              "       'Guadarrama', 'Titulcia', 'Galapagar', 'Collado Mediano',\n",
              "       'Los Molinos', 'San Lorenzo de El Escorial', 'Loeches',\n",
              "       'San Martín de Valdeiglesias', 'Navas del Rey', 'Bustarviejo',\n",
              "       'Manzanares El Real', 'Carabaña', 'Casarrubuelos', 'Cercedilla',\n",
              "       'Fresnedillas de la Oliva', 'Valdemaqueda', 'Robledo de Chavela',\n",
              "       'Miraflores de la Sierra', 'Humanes de Madrid',\n",
              "       'Valdetorres de Jarama', 'San Agustín del Guadalix',\n",
              "       'Ciempozuelos', 'Camarma de Esteruelas', 'Torres de la Alameda',\n",
              "       'Talamanca de Jarama', 'El Atazar', 'Hoyo de Manzanares',\n",
              "       'El Boalo - Cerceda – Mataelpino', 'El Álamo', 'Valdilecha',\n",
              "       'Valdeolmos-Alalpardo', 'Guadalix de la Sierra',\n",
              "       'Belmonte de Tajo', 'El Vellón', 'Brunete', 'Redueña',\n",
              "       'Morata de Tajuña', 'Tielmes', 'Gargantilla del Lozoya', 'Meco',\n",
              "       'Venturada', 'Quijorna', 'Cenicientos', 'Torrejón de Velasco',\n",
              "       'Navacerrada', 'Santa María de la Alameda', 'Orusco de Tajuña',\n",
              "       'Daganzo de Arriba', 'Villamanta', 'Anchuelo', 'Valdaracete',\n",
              "       'Ajalvir', 'Los Santos de la Humosa', 'Villamanrique de Tajo',\n",
              "       'Colmenar de Oreja', 'Villa del Prado', 'Fuentidueña de Tajo',\n",
              "       'Colmenar del Arroyo', 'Valdelaguna', 'Cubas de la Sagra',\n",
              "       'Valdeavero', 'Aldea del Fresno', 'Ribatejada', 'Torrelaguna',\n",
              "       'Batres', 'Pezuela de las Torres', 'Colmenarejo',\n",
              "       'Serranillos del Valle', 'Cobeña', 'Soto del Real', 'El Berrueco',\n",
              "       'Villanueva de Perales', 'Fresno de Torote - Serracines',\n",
              "       'Pozuelo del Rey', 'Pelayos de la Presa', 'La Cabrera',\n",
              "       'Nuevo Baztán', 'Perales de Tajuña', 'Villaconejos',\n",
              "       'Villarejo de Salvanés', 'Cadalso de los Vidrios', 'Santorcaz',\n",
              "       'Madarcos', 'Garganta de los Montes', 'Puentes Viejas',\n",
              "       'Torremocha de Jarama', 'Valdemanco', 'Braojos',\n",
              "       'Lozoyuela-navas-sieteiglesias', 'Piñuécar-gandullas',\n",
              "       'Valdepiélagos', 'Valverde de Alcalá', 'Villar del Olmo',\n",
              "       'Villamantilla', 'Horcajo de la Sierra', 'Gascones', 'Zarzalejo',\n",
              "       'Villavieja del Lozoya', 'Brea de Tajo', 'Estremera', 'Chapinería',\n",
              "       'Navarredonda', 'Patones', 'Ambite', 'Navalafuente', 'Lozoya',\n",
              "       'Canencia', 'Cabanillas de la Sierra', 'Buitrago del Lozoya',\n",
              "       'Fresno de Torote', 'Robregordo', 'Pinilla del Valle', 'Rascafría',\n",
              "       'La Hiruela', 'Montejo de la Sierra'], dtype=object)"
            ]
          },
          "execution_count": 9,
          "metadata": {},
          "output_type": "execute_result"
        }
      ],
      "source": [
        "ds.level5.unique()\n"
      ]
    },
    {
      "attachments": {},
      "cell_type": "markdown",
      "id": "crazy-blame",
      "metadata": {},
      "source": [
        "#### Ejercicio 05. ¿El dataset contiene valores no admitidos (NAs)? (★☆☆)\n",
        "\n",
        "Imprima un booleano (`True` o `False`) seguido de la fila/columna que contiene el NAs."
      ]
    },
    {
      "cell_type": "code",
      "execution_count": 10,
      "id": "transparent-poetry",
      "metadata": {},
      "outputs": [
        {
          "data": {
            "text/plain": [
              "Unnamed: 0          False\n",
              "id_realEstates      False\n",
              "isNew               False\n",
              "realEstate_name      True\n",
              "phone_realEstate     True\n",
              "url_inmueble        False\n",
              "rooms                True\n",
              "bathrooms            True\n",
              "surface              True\n",
              "price               False\n",
              "date                False\n",
              "description          True\n",
              "address             False\n",
              "country             False\n",
              "level1              False\n",
              "level2              False\n",
              "level3              False\n",
              "level4               True\n",
              "level5              False\n",
              "level6               True\n",
              "level7               True\n",
              "level8               True\n",
              "upperLevel          False\n",
              "countryId           False\n",
              "level1Id            False\n",
              "level2Id            False\n",
              "level3Id            False\n",
              "level4Id            False\n",
              "level5Id            False\n",
              "level6Id            False\n",
              "level7Id            False\n",
              "level8Id            False\n",
              "accuracy            False\n",
              "latitude            False\n",
              "longitude           False\n",
              "zipCode              True\n",
              "customZone           True\n",
              "dtype: bool"
            ]
          },
          "execution_count": 10,
          "metadata": {},
          "output_type": "execute_result"
        }
      ],
      "source": [
        "ds.isna().any()"
      ]
    },
    {
      "cell_type": "code",
      "execution_count": 11,
      "id": "1433875c",
      "metadata": {},
      "outputs": [
        {
          "data": {
            "text/plain": [
              "Unnamed: 0              0\n",
              "id_realEstates          0\n",
              "isNew                   0\n",
              "realEstate_name        10\n",
              "phone_realEstate      794\n",
              "url_inmueble            0\n",
              "rooms                 353\n",
              "bathrooms             345\n",
              "surface              1250\n",
              "price                   0\n",
              "date                    0\n",
              "description           142\n",
              "address                 0\n",
              "country                 0\n",
              "level1                  0\n",
              "level2                  0\n",
              "level3                  0\n",
              "level4               6643\n",
              "level5                  0\n",
              "level6              14627\n",
              "level7               2277\n",
              "level8               8579\n",
              "upperLevel              0\n",
              "countryId               0\n",
              "level1Id                0\n",
              "level2Id                0\n",
              "level3Id                0\n",
              "level4Id                0\n",
              "level5Id                0\n",
              "level6Id                0\n",
              "level7Id                0\n",
              "level8Id                0\n",
              "accuracy                0\n",
              "latitude                0\n",
              "longitude               0\n",
              "zipCode             15335\n",
              "customZone          15335\n",
              "dtype: int64"
            ]
          },
          "execution_count": 11,
          "metadata": {},
          "output_type": "execute_result"
        }
      ],
      "source": [
        "ds.isna().sum()"
      ]
    },
    {
      "attachments": {},
      "cell_type": "markdown",
      "id": "italic-hydrogen",
      "metadata": {},
      "source": [
        "#### Ejercicio 06. Elimina los NAs del dataset, si aplica (★★☆)\n",
        "\n",
        "Imprima una comparación entre las dimensiones del DataFrame original versus el DataFrame después de las eliminaciones.\n"
      ]
    },
    {
      "cell_type": "code",
      "execution_count": 12,
      "id": "2e04830f",
      "metadata": {},
      "outputs": [
        {
          "name": "stdout",
          "output_type": "stream",
          "text": [
            "(15335, 37)\n",
            "(5367, 33)\n"
          ]
        }
      ],
      "source": [
        "\n",
        "ds2=ds.drop([\"level6\",\"zipCode\",\"customZone\", \"level8\"],axis=1)\n",
        "ds2.dropna(inplace=True)\n",
        "print(ds.shape)\n",
        "print(ds2.shape)\n"
      ]
    },
    {
      "cell_type": "markdown",
      "id": "0ec973c7",
      "metadata": {},
      "source": [
        "\n",
        "# Ejercicio 07. ¿Cuál la media de precios en la población (columna level5) de \"Arroyomolinos (Madrid)\"? (★★☆)"
      ]
    },
    {
      "cell_type": "code",
      "execution_count": 13,
      "id": "nuclear-belief",
      "metadata": {},
      "outputs": [
        {
          "name": "stdout",
          "output_type": "stream",
          "text": [
            "el precio promedio de esta poblacion es 294541.59854014596\n"
          ]
        }
      ],
      "source": [
        "poblacion=ds[ds['level5']==\"Arroyomolinos (Madrid)\"] \n",
        "promedio=poblacion[\"price\"].mean()\n",
        "print(f\"el precio promedio de esta poblacion es {promedio}\")"
      ]
    },
    {
      "attachments": {},
      "cell_type": "markdown",
      "id": "concerned-radical",
      "metadata": {},
      "source": [
        "#### Ejercicio 08. Trazar el histograma de los precios para la población (level5 column) de \"Arroyomolinos (Madrid)\" y explica qué observas (★★☆)\n",
        "\n",
        "Imprime el histograma de los precios y escribe en la celda del Markdown un breve análisis del trazado.\n"
      ]
    },
    {
      "cell_type": "code",
      "execution_count": 14,
      "id": "sudden-message",
      "metadata": {},
      "outputs": [
        {
          "data": {
            "text/plain": [
              "Text(0.5, 1.0, 'Precios en Arroyomolinos')"
            ]
          },
          "execution_count": 14,
          "metadata": {},
          "output_type": "execute_result"
        },
        {
          "data": {
            "image/png": "[encoded data removed]",
            "text/plain": [
              "<Figure size 640x480 with 1 Axes>"
            ]
          },
          "metadata": {},
          "output_type": "display_data"
        }
      ],
      "source": [
        "import matplotlib.pyplot as plt\n",
        "plt.hist(poblacion[\"price\"],bins=40)\n",
        "plt.title(\"Precios en Arroyomolinos\")"
      ]
    },
    {
      "attachments": {},
      "cell_type": "markdown",
      "id": "impressed-combination",
      "metadata": {},
      "source": [
        "**TODO: Markdown**. Para escribir aquí, haz doble clic en esta celda, elimina este contenido y coloca lo que quieras escribir. Luego ejecuta la celda."
      ]
    },
    {
      "attachments": {},
      "cell_type": "markdown",
      "id": "actual-edinburgh",
      "metadata": {},
      "source": [
        "#### Ejercicio 09. ¿Son los precios promedios de \"Valdemorillo\" y \"Galapagar\" los mismos? (★★☆)\n",
        "\n",
        "Imprime ambos promedios y escribe una conclusión sobre ellos."
      ]
    },
    {
      "cell_type": "code",
      "execution_count": 15,
      "id": "numeric-commerce",
      "metadata": {},
      "outputs": [
        {
          "name": "stdout",
          "output_type": "stream",
          "text": [
            " es el precio promedio de valdemorillo 363860.2931034483\n",
            " es el precio promedio de Galapagar 360063.20238095237\n"
          ]
        }
      ],
      "source": [
        "valde=ds[ds['level5']==\"Valdemorillo\"] \n",
        "promediovalde=valde[\"price\"].mean()\n",
        "print(f\" es el precio promedio de valdemorillo {promediovalde}\")\n",
        "gala=ds[ds['level5']==\"Galapagar\"] \n",
        "promediogala=gala[\"price\"].mean()\n",
        "print(f\" es el precio promedio de Galapagar {promediogala}\")"
      ]
    },
    {
      "cell_type": "markdown",
      "id": "3123a2c2",
      "metadata": {},
      "source": [
        "los precios promedios de Valdemorillo y Galapagar las diferencias son minimas."
      ]
    },
    {
      "attachments": {},
      "cell_type": "markdown",
      "id": "lonely-article",
      "metadata": {},
      "source": [
        "#### Ejercicio 10. ¿Son los promedios de precio por metro cuadrado (precio/m2) de \"Valdemorillo\" y \"Galapagar\" los mismos? (★★☆)\n",
        "\n",
        "Imprime ambos promedios de precio por metro cuadrado y escribe una conclusión sobre ellos.\n",
        "\n",
        "Pista: Crea una nueva columna llamada `pps` (*price per square* o precio por metro cuadrado) y luego analiza los valores."
      ]
    },
    {
      "cell_type": "code",
      "execution_count": 16,
      "id": "hourly-globe",
      "metadata": {},
      "outputs": [
        {
          "name": "stdout",
          "output_type": "stream",
          "text": [
            " es el precio promedio por metro cuadrado de valdemorillo 1317.9502109024986\n",
            " es el precio promedio por mmetro cuadrado de Galapagar 1606.3240303094024\n"
          ]
        }
      ],
      "source": [
        "ds[\"pps\"]=ds[\"price\"]/ds[\"surface\"]\n",
        "valde=ds[ds['level5']==\"Valdemorillo\"] \n",
        "promediovalde=valde[\"pps\"].mean()\n",
        "print(f\" es el precio promedio por metro cuadrado de valdemorillo {promediovalde}\")\n",
        "gala=ds[ds['level5']==\"Galapagar\"] \n",
        "promediogala=gala[\"pps\"].mean()\n",
        "print(f\" es el precio promedio por mmetro cuadrado de Galapagar {promediogala}\")\n",
        "\n"
      ]
    },
    {
      "attachments": {},
      "cell_type": "markdown",
      "id": "pleasant-invite",
      "metadata": {},
      "source": [
        "#### Ejercicio 11. Analiza la relación entre la superficie y el precio de las casas. (★★☆)\n",
        "\n",
        "Pista: Puedes hacer un `scatter plot` y luego escribir una conclusión al respecto."
      ]
    },
    {
      "cell_type": "code",
      "execution_count": 17,
      "id": "common-drilling",
      "metadata": {},
      "outputs": [
        {
          "data": {
            "image/png": "[encoded data removed]",
            "text/plain": [
              "<Figure size 640x480 with 1 Axes>"
            ]
          },
          "metadata": {},
          "output_type": "display_data"
        }
      ],
      "source": [
        "plt.scatter(ds['surface'], ds['price'])\n",
        "plt.xlabel('surface')\n",
        "plt.ylabel('Price')\n",
        "plt.title('Relación entre superficie y Precio de las casas')\n",
        "plt.xlim(0,600)\n",
        "plt.ylim(0,800000)\n",
        "plt.show();"
      ]
    },
    {
      "attachments": {},
      "cell_type": "markdown",
      "id": "ahead-liquid",
      "metadata": {},
      "source": [
        "**TODO: Markdown**. Para escribir aquí, haz doble clic en esta celda, elimina este contenido y coloca lo que quieras escribir. Luego ejecuta la celda."
      ]
    },
    {
      "attachments": {},
      "cell_type": "markdown",
      "id": "coordinate-sunrise",
      "metadata": {},
      "source": [
        "#### Ejercicio 12. ¿Cuántas agencia de bienes raíces contiene el dataset? (★★☆)\n",
        "\n",
        "Imprime el valor obtenido."
      ]
    },
    {
      "cell_type": "code",
      "execution_count": 18,
      "id": "c36993ec",
      "metadata": {},
      "outputs": [
        {
          "data": {
            "text/plain": [
              "realEstate_name\n",
              "engel volkers madrid               470\n",
              "infocasa consulting                300\n",
              "outletdeviviendas                  260\n",
              "housell                            250\n",
              "solvia inmobiliaria                207\n",
              "                                  ... \n",
              "treixer servicios inmobiliarios      1\n",
              "tuvendesyocompro                     1\n",
              "comprarcasa noroeste                 1\n",
              "agv inmuebles                        1\n",
              "inmoproin                            1\n",
              "Name: count, Length: 1821, dtype: int64"
            ]
          },
          "execution_count": 18,
          "metadata": {},
          "output_type": "execute_result"
        }
      ],
      "source": [
        "ds[\"realEstate_name\"].value_counts(dropna=True)"
      ]
    },
    {
      "cell_type": "code",
      "execution_count": 19,
      "id": "valid-honolulu",
      "metadata": {},
      "outputs": [
        {
          "name": "stdout",
          "output_type": "stream",
          "text": [
            "la cantidad de inmobiliarias unicas que hay en el dataset son 1821\n"
          ]
        }
      ],
      "source": [
        "inmobiliarias=ds[\"realEstate_name\"].nunique()\n",
        "print(f\"la cantidad de inmobiliarias unicas que hay en el dataset son {inmobiliarias}\")"
      ]
    },
    {
      "attachments": {},
      "cell_type": "markdown",
      "id": "binding-ebony",
      "metadata": {},
      "source": [
        "#### Ejercicio 13. ¿Cuál es la población (columna level5) que contiene la mayor cantidad de casas?(★★☆)\n",
        "\n",
        "Imprima la población y el número de casas."
      ]
    },
    {
      "cell_type": "code",
      "execution_count": 20,
      "id": "static-perry",
      "metadata": {},
      "outputs": [
        {
          "name": "stdout",
          "output_type": "stream",
          "text": [
            "la poblacion que tiene la mayor cantidad de casas es  Madrid Capital\n"
          ]
        }
      ],
      "source": [
        "pobla=ds[\"level5\"].value_counts(dropna=True).index[0]\n",
        "print(f\"la poblacion que tiene la mayor cantidad de casas es {pobla}\")"
      ]
    },
    {
      "attachments": {},
      "cell_type": "markdown",
      "id": "entire-classification",
      "metadata": {},
      "source": [
        "#### Ejercicio 14. Ahora vamos a trabajar con el \"cinturón sur\" de Madrid. Haz un subconjunto del DataFrame original que contenga las siguientes poblaciones (columna level5): \"Fuenlabrada\", \"Leganés\", \"Getafe\", \"Alcorcón\" (★★☆)\n",
        "\n",
        "Pista: Filtra el DataFrame original usando la columna `level5` y la función `isin`."
      ]
    },
    {
      "cell_type": "code",
      "execution_count": 21,
      "id": "binary-input",
      "metadata": {},
      "outputs": [
        {
          "data": {
            "text/html": [
              "<div>\n",
              "<style scoped>\n",
              "    .dataframe tbody tr th:only-of-type {\n",
              "        vertical-align: middle;\n",
              "    }\n",
              "\n",
              "    .dataframe tbody tr th {\n",
              "        vertical-align: top;\n",
              "    }\n",
              "\n",
              "    .dataframe thead th {\n",
              "        text-align: right;\n",
              "    }\n",
              "</style>\n",
              "<table border=\"1\" class=\"dataframe\">\n",
              "  <thead>\n",
              "    <tr style=\"text-align: right;\">\n",
              "      <th></th>\n",
              "      <th>Unnamed: 0</th>\n",
              "      <th>id_realEstates</th>\n",
              "      <th>isNew</th>\n",
              "      <th>realEstate_name</th>\n",
              "      <th>phone_realEstate</th>\n",
              "      <th>url_inmueble</th>\n",
              "      <th>rooms</th>\n",
              "      <th>bathrooms</th>\n",
              "      <th>surface</th>\n",
              "      <th>price</th>\n",
              "      <th>...</th>\n",
              "      <th>level5Id</th>\n",
              "      <th>level6Id</th>\n",
              "      <th>level7Id</th>\n",
              "      <th>level8Id</th>\n",
              "      <th>accuracy</th>\n",
              "      <th>latitude</th>\n",
              "      <th>longitude</th>\n",
              "      <th>zipCode</th>\n",
              "      <th>customZone</th>\n",
              "      <th>pps</th>\n",
              "    </tr>\n",
              "  </thead>\n",
              "  <tbody>\n",
              "    <tr>\n",
              "      <th>1</th>\n",
              "      <td>2</td>\n",
              "      <td>153867863</td>\n",
              "      <td>False</td>\n",
              "      <td>tecnocasa fuenlabrada ferrocarril</td>\n",
              "      <td>916358736.0</td>\n",
              "      <td>https://www.fotocasa.es/es/comprar/vivienda/ma...</td>\n",
              "      <td>3.0</td>\n",
              "      <td>1.0</td>\n",
              "      <td>NaN</td>\n",
              "      <td>89000</td>\n",
              "      <td>...</td>\n",
              "      <td>0</td>\n",
              "      <td>0</td>\n",
              "      <td>0</td>\n",
              "      <td>0</td>\n",
              "      <td>1</td>\n",
              "      <td>40,28674</td>\n",
              "      <td>-3,79351</td>\n",
              "      <td>NaN</td>\n",
              "      <td>NaN</td>\n",
              "      <td>NaN</td>\n",
              "    </tr>\n",
              "    <tr>\n",
              "      <th>3</th>\n",
              "      <td>4</td>\n",
              "      <td>152776331</td>\n",
              "      <td>False</td>\n",
              "      <td>tecnocasa fuenlabrada ferrocarril</td>\n",
              "      <td>916358736.0</td>\n",
              "      <td>https://www.fotocasa.es/es/comprar/vivienda/ma...</td>\n",
              "      <td>3.0</td>\n",
              "      <td>1.0</td>\n",
              "      <td>86.0</td>\n",
              "      <td>89000</td>\n",
              "      <td>...</td>\n",
              "      <td>0</td>\n",
              "      <td>0</td>\n",
              "      <td>0</td>\n",
              "      <td>0</td>\n",
              "      <td>0</td>\n",
              "      <td>40,2853785786438</td>\n",
              "      <td>-3,79508142135624</td>\n",
              "      <td>NaN</td>\n",
              "      <td>NaN</td>\n",
              "      <td>1034.883721</td>\n",
              "    </tr>\n",
              "    <tr>\n",
              "      <th>85</th>\n",
              "      <td>86</td>\n",
              "      <td>153152077</td>\n",
              "      <td>False</td>\n",
              "      <td>sinergical inmobiliaria</td>\n",
              "      <td>NaN</td>\n",
              "      <td>https://www.fotocasa.es/es/comprar/vivienda/le...</td>\n",
              "      <td>1.0</td>\n",
              "      <td>1.0</td>\n",
              "      <td>50.0</td>\n",
              "      <td>107000</td>\n",
              "      <td>...</td>\n",
              "      <td>0</td>\n",
              "      <td>0</td>\n",
              "      <td>0</td>\n",
              "      <td>0</td>\n",
              "      <td>1</td>\n",
              "      <td>40,35059</td>\n",
              "      <td>-3,82693</td>\n",
              "      <td>NaN</td>\n",
              "      <td>NaN</td>\n",
              "      <td>2140.000000</td>\n",
              "    </tr>\n",
              "    <tr>\n",
              "      <th>94</th>\n",
              "      <td>95</td>\n",
              "      <td>153995577</td>\n",
              "      <td>False</td>\n",
              "      <td>viviendas365com</td>\n",
              "      <td>911226014.0</td>\n",
              "      <td>https://www.fotocasa.es/es/comprar/vivienda/le...</td>\n",
              "      <td>3.0</td>\n",
              "      <td>2.0</td>\n",
              "      <td>120.0</td>\n",
              "      <td>320000</td>\n",
              "      <td>...</td>\n",
              "      <td>0</td>\n",
              "      <td>0</td>\n",
              "      <td>0</td>\n",
              "      <td>0</td>\n",
              "      <td>0</td>\n",
              "      <td>40,31933</td>\n",
              "      <td>-3,77574</td>\n",
              "      <td>NaN</td>\n",
              "      <td>NaN</td>\n",
              "      <td>2666.666667</td>\n",
              "    </tr>\n",
              "    <tr>\n",
              "      <th>109</th>\n",
              "      <td>110</td>\n",
              "      <td>153586414</td>\n",
              "      <td>False</td>\n",
              "      <td>area uno asesores inmobiliarios</td>\n",
              "      <td>912664081.0</td>\n",
              "      <td>https://www.fotocasa.es/es/comprar/vivienda/ma...</td>\n",
              "      <td>3.0</td>\n",
              "      <td>3.0</td>\n",
              "      <td>142.0</td>\n",
              "      <td>425000</td>\n",
              "      <td>...</td>\n",
              "      <td>0</td>\n",
              "      <td>0</td>\n",
              "      <td>0</td>\n",
              "      <td>0</td>\n",
              "      <td>0</td>\n",
              "      <td>40,3313411</td>\n",
              "      <td>-3,8313868</td>\n",
              "      <td>NaN</td>\n",
              "      <td>NaN</td>\n",
              "      <td>2992.957746</td>\n",
              "    </tr>\n",
              "    <tr>\n",
              "      <th>...</th>\n",
              "      <td>...</td>\n",
              "      <td>...</td>\n",
              "      <td>...</td>\n",
              "      <td>...</td>\n",
              "      <td>...</td>\n",
              "      <td>...</td>\n",
              "      <td>...</td>\n",
              "      <td>...</td>\n",
              "      <td>...</td>\n",
              "      <td>...</td>\n",
              "      <td>...</td>\n",
              "      <td>...</td>\n",
              "      <td>...</td>\n",
              "      <td>...</td>\n",
              "      <td>...</td>\n",
              "      <td>...</td>\n",
              "      <td>...</td>\n",
              "      <td>...</td>\n",
              "      <td>...</td>\n",
              "      <td>...</td>\n",
              "      <td>...</td>\n",
              "    </tr>\n",
              "    <tr>\n",
              "      <th>15275</th>\n",
              "      <td>15276</td>\n",
              "      <td>153903887</td>\n",
              "      <td>False</td>\n",
              "      <td>aliseda servicios de gestion inmobiliaria</td>\n",
              "      <td>911368198.0</td>\n",
              "      <td>https://www.fotocasa.es/es/comprar/vivienda/al...</td>\n",
              "      <td>3.0</td>\n",
              "      <td>1.0</td>\n",
              "      <td>78.0</td>\n",
              "      <td>138000</td>\n",
              "      <td>...</td>\n",
              "      <td>0</td>\n",
              "      <td>0</td>\n",
              "      <td>0</td>\n",
              "      <td>0</td>\n",
              "      <td>1</td>\n",
              "      <td>40,31381</td>\n",
              "      <td>-3,83733</td>\n",
              "      <td>NaN</td>\n",
              "      <td>NaN</td>\n",
              "      <td>1769.230769</td>\n",
              "    </tr>\n",
              "    <tr>\n",
              "      <th>15291</th>\n",
              "      <td>15292</td>\n",
              "      <td>151697757</td>\n",
              "      <td>False</td>\n",
              "      <td>unipiso</td>\n",
              "      <td>912788631.0</td>\n",
              "      <td>https://www.fotocasa.es/es/comprar/vivienda/al...</td>\n",
              "      <td>3.0</td>\n",
              "      <td>2.0</td>\n",
              "      <td>110.0</td>\n",
              "      <td>279000</td>\n",
              "      <td>...</td>\n",
              "      <td>0</td>\n",
              "      <td>0</td>\n",
              "      <td>0</td>\n",
              "      <td>0</td>\n",
              "      <td>0</td>\n",
              "      <td>40,3259051</td>\n",
              "      <td>-3,76318</td>\n",
              "      <td>NaN</td>\n",
              "      <td>NaN</td>\n",
              "      <td>2536.363636</td>\n",
              "    </tr>\n",
              "    <tr>\n",
              "      <th>15305</th>\n",
              "      <td>15306</td>\n",
              "      <td>153902389</td>\n",
              "      <td>False</td>\n",
              "      <td>jadein ferrero</td>\n",
              "      <td>914871639.0</td>\n",
              "      <td>https://www.fotocasa.es/es/comprar/vivienda/ma...</td>\n",
              "      <td>3.0</td>\n",
              "      <td>2.0</td>\n",
              "      <td>85.0</td>\n",
              "      <td>170000</td>\n",
              "      <td>...</td>\n",
              "      <td>0</td>\n",
              "      <td>0</td>\n",
              "      <td>0</td>\n",
              "      <td>0</td>\n",
              "      <td>0</td>\n",
              "      <td>40,2882193</td>\n",
              "      <td>-3,8098617</td>\n",
              "      <td>NaN</td>\n",
              "      <td>NaN</td>\n",
              "      <td>2000.000000</td>\n",
              "    </tr>\n",
              "    <tr>\n",
              "      <th>15322</th>\n",
              "      <td>15323</td>\n",
              "      <td>153871864</td>\n",
              "      <td>False</td>\n",
              "      <td>gestion comercial</td>\n",
              "      <td>911220662.0</td>\n",
              "      <td>https://www.fotocasa.es/es/comprar/vivienda/ma...</td>\n",
              "      <td>3.0</td>\n",
              "      <td>1.0</td>\n",
              "      <td>91.0</td>\n",
              "      <td>112000</td>\n",
              "      <td>...</td>\n",
              "      <td>0</td>\n",
              "      <td>0</td>\n",
              "      <td>0</td>\n",
              "      <td>0</td>\n",
              "      <td>0</td>\n",
              "      <td>40,28282</td>\n",
              "      <td>-3,78892</td>\n",
              "      <td>NaN</td>\n",
              "      <td>NaN</td>\n",
              "      <td>1230.769231</td>\n",
              "    </tr>\n",
              "    <tr>\n",
              "      <th>15325</th>\n",
              "      <td>15326</td>\n",
              "      <td>153901467</td>\n",
              "      <td>False</td>\n",
              "      <td>montehogar 68</td>\n",
              "      <td>911790675.0</td>\n",
              "      <td>https://www.fotocasa.es/es/comprar/vivienda/ma...</td>\n",
              "      <td>2.0</td>\n",
              "      <td>2.0</td>\n",
              "      <td>99.0</td>\n",
              "      <td>215000</td>\n",
              "      <td>...</td>\n",
              "      <td>0</td>\n",
              "      <td>0</td>\n",
              "      <td>0</td>\n",
              "      <td>0</td>\n",
              "      <td>1</td>\n",
              "      <td>40,28062</td>\n",
              "      <td>-3,79869</td>\n",
              "      <td>NaN</td>\n",
              "      <td>NaN</td>\n",
              "      <td>2171.717172</td>\n",
              "    </tr>\n",
              "  </tbody>\n",
              "</table>\n",
              "<p>907 rows × 38 columns</p>\n",
              "</div>"
            ],
            "text/plain": [
              "       Unnamed: 0  id_realEstates  isNew  \\\n",
              "1               2       153867863  False   \n",
              "3               4       152776331  False   \n",
              "85             86       153152077  False   \n",
              "94             95       153995577  False   \n",
              "109           110       153586414  False   \n",
              "...           ...             ...    ...   \n",
              "15275       15276       153903887  False   \n",
              "15291       15292       151697757  False   \n",
              "15305       15306       153902389  False   \n",
              "15322       15323       153871864  False   \n",
              "15325       15326       153901467  False   \n",
              "\n",
              "                                 realEstate_name  phone_realEstate  \\\n",
              "1              tecnocasa fuenlabrada ferrocarril       916358736.0   \n",
              "3              tecnocasa fuenlabrada ferrocarril       916358736.0   \n",
              "85                       sinergical inmobiliaria               NaN   \n",
              "94                               viviendas365com       911226014.0   \n",
              "109              area uno asesores inmobiliarios       912664081.0   \n",
              "...                                          ...               ...   \n",
              "15275  aliseda servicios de gestion inmobiliaria       911368198.0   \n",
              "15291                                    unipiso       912788631.0   \n",
              "15305                             jadein ferrero       914871639.0   \n",
              "15322                          gestion comercial       911220662.0   \n",
              "15325                              montehogar 68       911790675.0   \n",
              "\n",
              "                                            url_inmueble  rooms  bathrooms  \\\n",
              "1      https://www.fotocasa.es/es/comprar/vivienda/ma...    3.0        1.0   \n",
              "3      https://www.fotocasa.es/es/comprar/vivienda/ma...    3.0        1.0   \n",
              "85     https://www.fotocasa.es/es/comprar/vivienda/le...    1.0        1.0   \n",
              "94     https://www.fotocasa.es/es/comprar/vivienda/le...    3.0        2.0   \n",
              "109    https://www.fotocasa.es/es/comprar/vivienda/ma...    3.0        3.0   \n",
              "...                                                  ...    ...        ...   \n",
              "15275  https://www.fotocasa.es/es/comprar/vivienda/al...    3.0        1.0   \n",
              "15291  https://www.fotocasa.es/es/comprar/vivienda/al...    3.0        2.0   \n",
              "15305  https://www.fotocasa.es/es/comprar/vivienda/ma...    3.0        2.0   \n",
              "15322  https://www.fotocasa.es/es/comprar/vivienda/ma...    3.0        1.0   \n",
              "15325  https://www.fotocasa.es/es/comprar/vivienda/ma...    2.0        2.0   \n",
              "\n",
              "       surface   price  ... level5Id level6Id level7Id level8Id accuracy  \\\n",
              "1          NaN   89000  ...        0        0        0        0        1   \n",
              "3         86.0   89000  ...        0        0        0        0        0   \n",
              "85        50.0  107000  ...        0        0        0        0        1   \n",
              "94       120.0  320000  ...        0        0        0        0        0   \n",
              "109      142.0  425000  ...        0        0        0        0        0   \n",
              "...        ...     ...  ...      ...      ...      ...      ...      ...   \n",
              "15275     78.0  138000  ...        0        0        0        0        1   \n",
              "15291    110.0  279000  ...        0        0        0        0        0   \n",
              "15305     85.0  170000  ...        0        0        0        0        0   \n",
              "15322     91.0  112000  ...        0        0        0        0        0   \n",
              "15325     99.0  215000  ...        0        0        0        0        1   \n",
              "\n",
              "               latitude          longitude zipCode customZone          pps  \n",
              "1              40,28674           -3,79351     NaN        NaN          NaN  \n",
              "3      40,2853785786438  -3,79508142135624     NaN        NaN  1034.883721  \n",
              "85             40,35059           -3,82693     NaN        NaN  2140.000000  \n",
              "94             40,31933           -3,77574     NaN        NaN  2666.666667  \n",
              "109          40,3313411         -3,8313868     NaN        NaN  2992.957746  \n",
              "...                 ...                ...     ...        ...          ...  \n",
              "15275          40,31381           -3,83733     NaN        NaN  1769.230769  \n",
              "15291        40,3259051           -3,76318     NaN        NaN  2536.363636  \n",
              "15305        40,2882193         -3,8098617     NaN        NaN  2000.000000  \n",
              "15322          40,28282           -3,78892     NaN        NaN  1230.769231  \n",
              "15325          40,28062           -3,79869     NaN        NaN  2171.717172  \n",
              "\n",
              "[907 rows x 38 columns]"
            ]
          },
          "execution_count": 21,
          "metadata": {},
          "output_type": "execute_result"
        }
      ],
      "source": [
        "poblaciones = [\"Fuenlabrada\", \"Leganés\", \"Getafe\", \"Alcorcón\"]\n",
        "cinturonsur = ds[ds[\"level5\"].isin(poblaciones)]\n",
        "cinturonsur\n"
      ]
    },
    {
      "attachments": {},
      "cell_type": "markdown",
      "id": "severe-fisher",
      "metadata": {},
      "source": [
        "#### Ejercicio 15. Traza un gráfico de barras de la mediana de los precios y explica lo que observas (debes usar el subconjunto obtenido del Ejercicio 14) (★★★)\n",
        "\n",
        "Imprima un gráfico de barras de la mediana de precios y escriba en la celda Markdown un breve análisis sobre el gráfico."
      ]
    },
    {
      "cell_type": "code",
      "execution_count": 22,
      "id": "lyric-bunch",
      "metadata": {},
      "outputs": [
        {
          "data": {
            "text/plain": [
              "Text(0.5, 1.0, 'grafico de la mediana de los precios')"
            ]
          },
          "execution_count": 22,
          "metadata": {},
          "output_type": "execute_result"
        },
        {
          "data": {
            "image/png": "[encoded data removed]",
            "text/plain": [
              "<Figure size 640x480 with 1 Axes>"
            ]
          },
          "metadata": {},
          "output_type": "display_data"
        }
      ],
      "source": [
        "mediana=cinturonsur.groupby(\"level5\")[\"price\"].median()\n",
        "plt.bar(mediana.index, mediana)\n",
        "plt.title(\"grafico de la mediana de los precios\")"
      ]
    },
    {
      "attachments": {},
      "cell_type": "markdown",
      "id": "sublime-newspaper",
      "metadata": {},
      "source": [
        "**TODO: Markdown**. Para escribir aquí, haz doble clic en esta celda, elimina este contenido y coloca lo que quieras escribir. Luego ejecuta la celda."
      ]
    },
    {
      "attachments": {},
      "cell_type": "markdown",
      "id": "speaking-diamond",
      "metadata": {},
      "source": [
        "#### Ejercicio 16. Calcula la media y la varianza de muestra para las siguientes variables: precio, habitaciones, superficie y baños (debes usar el subconjunto obtenido del Ejercicio 14) (★★★)\n",
        "\n",
        "Imprime ambos valores por cada variable."
      ]
    },
    {
      "cell_type": "code",
      "execution_count": 23,
      "id": "random-feeling",
      "metadata": {},
      "outputs": [
        {
          "name": "stdout",
          "output_type": "stream",
          "text": [
            "la media de precios del cinturon sur de madrid es 223094.48070562293\n",
            "la media de rooms del cinturon sur de madrid es 3.0177383592017737\n",
            "la media de surface del cinturon sur de madrid es 111.75222363405337\n",
            "la media de baños del cinturon sur de madrid es 1.633221850613155\n"
          ]
        }
      ],
      "source": [
        "media_de_precios=cinturonsur[\"price\"].mean()\n",
        "print(f\"la media de precios del cinturon sur de madrid es {media_de_precios}\")\n",
        "media_de_rooms=cinturonsur[\"rooms\"].mean()\n",
        "print(f\"la media de rooms del cinturon sur de madrid es {media_de_rooms}\")\n",
        "media_de_surface=cinturonsur[\"surface\"].mean()\n",
        "print(f\"la media de surface del cinturon sur de madrid es {media_de_surface}\")\n",
        "media_de_baños=cinturonsur[\"bathrooms\"].mean()\n",
        "print(f\"la media de baños del cinturon sur de madrid es {media_de_baños}\")"
      ]
    },
    {
      "cell_type": "code",
      "execution_count": 24,
      "id": "645d33a3",
      "metadata": {},
      "outputs": [
        {
          "name": "stdout",
          "output_type": "stream",
          "text": [
            "la varianza de precios del cinturon sur de madrid es 14921367508.04902\n",
            "la varianza de rooms del cinturon sur de madrid es 0.7188858892927542\n",
            "la varianza de surface del cinturon sur de madrid es 4263.051760316337\n",
            "la varianza de bathrooms del cinturon sur de madrid es 0.5717968625577321\n"
          ]
        }
      ],
      "source": [
        "varianza_de_precios=cinturonsur[\"price\"].var()\n",
        "print(f\"la varianza de precios del cinturon sur de madrid es {varianza_de_precios}\")\n",
        "varianza_de_rooms=cinturonsur[\"rooms\"].var()\n",
        "print(f\"la varianza de rooms del cinturon sur de madrid es {varianza_de_rooms}\")\n",
        "varianza_de_surface=cinturonsur[\"surface\"].var()\n",
        "print(f\"la varianza de surface del cinturon sur de madrid es {varianza_de_surface}\")\n",
        "varianza_de_bathrooms=cinturonsur[\"bathrooms\"].var()\n",
        "print(f\"la varianza de bathrooms del cinturon sur de madrid es {varianza_de_bathrooms}\")"
      ]
    },
    {
      "attachments": {},
      "cell_type": "markdown",
      "id": "revolutionary-matrix",
      "metadata": {},
      "source": [
        "#### Ejercicio 17. ¿Cuál es la casa más cara de cada población? Debes usar el subset obtenido en la pregunta 14 (★★☆)\n",
        "\n",
        "Imprime tanto la dirección como el precio de la casa seleccionada de cada población. Puedes imprimir un DataFrame o una sola línea para cada población."
      ]
    },
    {
      "cell_type": "code",
      "execution_count": 25,
      "id": "fifteen-browse",
      "metadata": {},
      "outputs": [
        {
          "data": {
            "text/plain": [
              "level5\n",
              "Alcorcón        5585\n",
              "Fuenlabrada    11561\n",
              "Getafe          2881\n",
              "Leganés        10412\n",
              "Name: price, dtype: int64"
            ]
          },
          "execution_count": 25,
          "metadata": {},
          "output_type": "execute_result"
        }
      ],
      "source": [
        "max=cinturonsur.groupby(\"level5\")[\"price\"].idxmax()\n",
        "max"
      ]
    },
    {
      "cell_type": "code",
      "execution_count": 26,
      "id": "bc122b29",
      "metadata": {},
      "outputs": [
        {
          "data": {
            "text/html": [
              "<div>\n",
              "<style scoped>\n",
              "    .dataframe tbody tr th:only-of-type {\n",
              "        vertical-align: middle;\n",
              "    }\n",
              "\n",
              "    .dataframe tbody tr th {\n",
              "        vertical-align: top;\n",
              "    }\n",
              "\n",
              "    .dataframe thead th {\n",
              "        text-align: right;\n",
              "    }\n",
              "</style>\n",
              "<table border=\"1\" class=\"dataframe\">\n",
              "  <thead>\n",
              "    <tr style=\"text-align: right;\">\n",
              "      <th></th>\n",
              "      <th>level5</th>\n",
              "      <th>address</th>\n",
              "      <th>price</th>\n",
              "    </tr>\n",
              "  </thead>\n",
              "  <tbody>\n",
              "    <tr>\n",
              "      <th>5585</th>\n",
              "      <td>Alcorcón</td>\n",
              "      <td>Alcorcón</td>\n",
              "      <td>950000</td>\n",
              "    </tr>\n",
              "    <tr>\n",
              "      <th>11561</th>\n",
              "      <td>Fuenlabrada</td>\n",
              "      <td>Calle de Paulo Freire, 5, Fuenlabrada</td>\n",
              "      <td>490000</td>\n",
              "    </tr>\n",
              "    <tr>\n",
              "      <th>2881</th>\n",
              "      <td>Getafe</td>\n",
              "      <td>Getafe</td>\n",
              "      <td>1050000</td>\n",
              "    </tr>\n",
              "    <tr>\n",
              "      <th>10412</th>\n",
              "      <td>Leganés</td>\n",
              "      <td>Avenida Reina Sofía, Leganés</td>\n",
              "      <td>650000</td>\n",
              "    </tr>\n",
              "  </tbody>\n",
              "</table>\n",
              "</div>"
            ],
            "text/plain": [
              "            level5                                address    price\n",
              "5585      Alcorcón                               Alcorcón   950000\n",
              "11561  Fuenlabrada  Calle de Paulo Freire, 5, Fuenlabrada   490000\n",
              "2881        Getafe                                 Getafe  1050000\n",
              "10412      Leganés           Avenida Reina Sofía, Leganés   650000"
            ]
          },
          "execution_count": 26,
          "metadata": {},
          "output_type": "execute_result"
        }
      ],
      "source": [
        "cinturonsur.loc[max,[\"level5\",\"address\",\"price\"]]"
      ]
    },
    {
      "attachments": {},
      "cell_type": "markdown",
      "id": "activated-knight",
      "metadata": {},
      "source": [
        "#### Ejercicio 18. Normaliza la variable de precios para cada población y traza los 4 histogramas en el mismo gráfico (debes usar el subconjunto obtenido en la pregunta 14) (★★★)\n",
        "\n",
        "Para el método de normalización, puedes usar el que consideres adecuado, no hay una única respuesta correcta para esta pregunta. Imprime el gráfico y escribe en la celda de Markdown un breve análisis sobre el gráfico.\n",
        "\n",
        "Pista: Puedes ayudarte revisando la demostración multihist de Matplotlib."
      ]
    },
    {
      "cell_type": "code",
      "execution_count": 27,
      "id": "civic-meditation",
      "metadata": {},
      "outputs": [
        {
          "data": {
            "image/png": "[encoded data removed]",
            "text/plain": [
              "<Figure size 1500x1000 with 4 Axes>"
            ]
          },
          "metadata": {},
          "output_type": "display_data"
        },
        {
          "data": {
            "image/png": "[encoded data removed]",
            "text/plain": [
              "<Figure size 640x480 with 1 Axes>"
            ]
          },
          "metadata": {},
          "output_type": "display_data"
        }
      ],
      "source": [
        "def normalizacion(ds,poblacion):  \n",
        "    cinturonsur = ds[ds['level5'] == poblacion]\n",
        "    min_price = cinturonsur['price'].min()\n",
        "    max_price = cinturonsur['price'].max()\n",
        "    return (cinturonsur['price'] - min_price) / (max_price - min_price)\n",
        "\n",
        "fig,((ax0, ax1), (ax2, ax3)) = plt.subplots(nrows=2, ncols=2,figsize = (15, 10))\n",
        "ax0.hist([normalizacion(ds,\"Fuenlabrada\")], label=\"Fuenlabrada\", histtype=\"bar\")\n",
        "ax0.set_title(label=\"Fuenlabrada\")\n",
        "ax1.hist([normalizacion(ds,\"Leganés\")],label=\"Leganés\", histtype=\"bar\")\n",
        "ax1.set_title(label=\"Leganés\")\n",
        "ax2.hist([normalizacion(ds,\"Getafe\")],label=\"Getafe\", histtype=\"bar\")\n",
        "ax2.set_title(label=\"Getafe\")\n",
        "ax3.hist([normalizacion(ds,\"Alcorcón\")],label=\"Alcorcón\", histtype=\"bar\")\n",
        "ax3.set_title(label=\"Alcorcón\")\n",
        "\n",
        "plt.show()\n",
        "\n",
        "fig,ax = plt.subplots() \n",
        "ax.hist([normalizacion(ds,\"Fuenlabrada\")], label=\"Fuenlabrada\", histtype=\"step\", density=True)\n",
        "ax.hist([normalizacion(ds,\"Leganés\")],label=\"Leganés\", histtype=\"step\", density=True)\n",
        "ax.hist([normalizacion(ds,\"Getafe\")],label=\"Getafe\", histtype=\"step\", density=True)\n",
        "ax.hist([normalizacion(ds,\"Alcorcón\")],label=\"Alcorcón\", histtype=\"step\", density=True)\n",
        "plt.legend(loc='upper right')\n",
        "plt.show()\n"
      ]
    },
    {
      "attachments": {},
      "cell_type": "markdown",
      "id": "precise-heavy",
      "metadata": {},
      "source": [
        "**TODO: Markdown**. Para escribir aquí, haz doble clic en esta celda, elimina este contenido y coloca lo que quieras escribir. Luego ejecuta la celda."
      ]
    },
    {
      "attachments": {},
      "cell_type": "markdown",
      "id": "patent-jonathan",
      "metadata": {},
      "source": [
        "#### Ejercicio 19. ¿Qué puedes decir sobre el precio por metro cuadrado (precio/m2) entre los municipios de 'Getafe' y 'Alcorcón'? Debes usar el subconjunto obtenido en la pregunta 14 (★★☆)\n",
        "\n",
        "Pista: Crea una nueva columna llamada `pps` (price per square en inglés) y luego analiza los valores"
      ]
    },
    {
      "cell_type": "code",
      "execution_count": 29,
      "id": "initial-liverpool",
      "metadata": {},
      "outputs": [
        {
          "name": "stdout",
          "output_type": "stream",
          "text": [
            " el precio por metro cuadrado  2066.314949251463\n",
            " el precio por metro cuadrado  2239.302480199618\n"
          ]
        }
      ],
      "source": [
        "poblaciongetafe = ds[ds[\"level5\"]==\"Getafe\"][\"pps\"].mean()\n",
        "poblacionalcorcon = ds[ds[\"level5\"]==\"Alcorcón\"][\"pps\"].mean()\n",
        "print(f\" el precio por metro cuadrado  {poblaciongetafe}\")\n",
        "print(f\" el precio por metro cuadrado  {poblacionalcorcon}\")"
      ]
    },
    {
      "attachments": {},
      "cell_type": "markdown",
      "id": "enhanced-moscow",
      "metadata": {},
      "source": [
        "#### Ejercicio 20. Realiza el mismo gráfico para 4 poblaciones diferentes (columna level5) y colócalos en el mismo gráfico. Debes usar el subconjunto obtenido en la pregunta 14 (★★☆) \n",
        "Pista: Haz un diagrama de dispersión de cada población usando subgráficos (subplots)."
      ]
    },
    {
      "cell_type": "code",
      "execution_count": 30,
      "id": "accepting-airfare",
      "metadata": {},
      "outputs": [],
      "source": [
        "poblaciongetafe = ds[ds[\"level5\"]==\"Getafe\"]\n",
        "poblacionAlcorcón = ds[ds[\"level5\"]==\"Alcorcón\"]\n",
        "poblacionFuenlabrada = ds[ds[\"level5\"]==\"Fuenlabrada\"]\n",
        "poblacionLeganés = ds[ds[\"level5\"]==\"Leganés\"]"
      ]
    },
    {
      "cell_type": "code",
      "execution_count": 31,
      "id": "fbc9ecd3",
      "metadata": {},
      "outputs": [
        {
          "data": {
            "text/plain": [
              "Text(0.5, 1.0, 'Getafe')"
            ]
          },
          "execution_count": 31,
          "metadata": {},
          "output_type": "execute_result"
        },
        {
          "data": {
            "image/png": "[encoded data removed]",
            "text/plain": [
              "<Figure size 1200x800 with 4 Axes>"
            ]
          },
          "metadata": {},
          "output_type": "display_data"
        }
      ],
      "source": [
        "fig, axes=plt.subplots(2,2,figsize=(12,8))\n",
        "fig.subplots_adjust(hspace=0.5)\n",
        "\n",
        "axes[0, 0].scatter(poblaciongetafe.surface, poblaciongetafe.price)\n",
        "axes[0, 0].set_title('Getafe')\n",
        "axes[1, 0].scatter(poblacionAlcorcón.surface, poblacionAlcorcón.price)\n",
        "axes[1, 0].set_title('Getafe')\n",
        "axes[1, 1].scatter(poblacionFuenlabrada.surface, poblacionFuenlabrada.price)\n",
        "axes[1, 1].set_title('Getafe')\n",
        "axes[0, 1].scatter(poblacionLeganés.surface, poblacionLeganés.price)\n",
        "axes[0, 1].set_title('Getafe')"
      ]
    },
    {
      "attachments": {},
      "cell_type": "markdown",
      "id": "blocked-effects",
      "metadata": {},
      "source": [
        "#### Ejercicio 21. Realiza un trazado de las coordenadas (columnas latitud y longitud) del cinturón sur de Madrid por color de cada población (debes usar el subconjunto obtenido del Ejercicio 14) (★★★★)\n",
        "\n",
        "Ejecuta la siguiente celda y luego comienza a codear en la siguiente. Debes implementar un código simple que transforme las columnas de coordenadas en un diccionario de Python (agrega más información si es necesario) y agrégala al mapa."
      ]
    },
    {
      "cell_type": "code",
      "execution_count": 28,
      "id": "headed-privacy",
      "metadata": {},
      "outputs": [
        {
          "data": {
            "application/vnd.jupyter.widget-view+json": {
              "model_id": "584318c8083b45be85cea87c13ef4328",
              "version_major": 2,
              "version_minor": 0
            },
            "text/plain": [
              "Map(center=[40.35, -3.8], controls=(ZoomControl(options=['position', 'zoom_in_text', 'zoom_in_title', 'zoom_ou…"
            ]
          },
          "execution_count": 28,
          "metadata": {},
          "output_type": "execute_result"
        }
      ],
      "source": [
        "from ipyleaflet import Map, basemaps\n",
        "\n",
        "# Mapa centrado en Madrid\n",
        "map = Map(center = (40.35, -3.8), zoom = 11.5, min_zoom = 1, max_zoom = 20, \n",
        "    basemap=basemaps.OpenStreetMap.Mapnik)\n",
        "map"
      ]
    },
    {
      "cell_type": "code",
      "execution_count": 29,
      "id": "present-mistress",
      "metadata": {},
      "outputs": [],
      "source": [
        "## Aquí: traza la coordenadas de los estados\n",
        "\n",
        "## PON TU CÓDIGO AQUÍ:\n"
      ]
    }
  ],
  "metadata": {
    "kernelspec": {
      "display_name": "Python 3",
      "language": "python",
      "name": "python3"
    },
    "language_info": {
      "codemirror_mode": {
        "name": "ipython",
        "version": 3
      },
      "file_extension": ".py",
      "mimetype": "text/x-python",
      "name": "python",
      "nbconvert_exporter": "python",
      "pygments_lexer": "ipython3",
      "version": "3.11.4"
    }
  },
  "nbformat": 4,
  "nbformat_minor": 5
}
